{
 "cells": [
  {
   "cell_type": "markdown",
   "id": "582c8da9",
   "metadata": {},
   "source": [
    "## 1. Declare two variables, `x` and `y`, and assign them integer values.Swap the values of these variables without using any temporary variable."
   ]
  },
  {
   "cell_type": "code",
   "execution_count": 5,
   "id": "98b3e44e",
   "metadata": {},
   "outputs": [
    {
     "name": "stdout",
     "output_type": "stream",
     "text": [
      "value of x before swapping: 50\n",
      "value of y before swapping: 100\n",
      "value of x after swapping: 100\n",
      "value of y after swapping: 50\n"
     ]
    }
   ],
   "source": [
    "x=50\n",
    "y=100\n",
    "print(\"value of x before swapping:\",x)\n",
    "print(\"value of y before swapping:\",y)\n",
    "x = x + y \n",
    "y = x - y\n",
    "x = x - y\n",
    "print(\"value of x after swapping:\",x)\n",
    "print(\"value of y after swapping:\",y)\n"
   ]
  },
  {
   "cell_type": "markdown",
   "id": "e9f60a83",
   "metadata": {},
   "source": [
    "# 2. Create a program that calculates the area of a rectangle. Take thelength and width as inputs from the user and store them in variables.Calculate and display the area."
   ]
  },
  {
   "cell_type": "code",
   "execution_count": 8,
   "id": "53117b92",
   "metadata": {},
   "outputs": [
    {
     "name": "stdout",
     "output_type": "stream",
     "text": [
      "Enter Length of Rectangle: 2\n",
      "Enter Width of Rectangle: 5\n",
      "Area of rectangle is: 10\n"
     ]
    }
   ],
   "source": [
    "L = input(\"Enter Length of Rectangle: \")\n",
    "W = input(\"Enter Width of Rectangle: \")\n",
    "Area=int(L)*int(W)\n",
    "print(\"Area of rectangle is:\",Area)"
   ]
  },
  {
   "cell_type": "markdown",
   "id": "b84bc0da",
   "metadata": {},
   "source": [
    "# 3. Write a Python program that converts temperature from Celsius to Fahrenheit. Take the temperature in Celsius as input, store it in a variable, convert it to Fahrenheit, and display the result."
   ]
  },
  {
   "cell_type": "code",
   "execution_count": 9,
   "id": "4ca95f2a",
   "metadata": {},
   "outputs": [
    {
     "name": "stdout",
     "output_type": "stream",
     "text": [
      "Enter the Temperature in Celsius :\n",
      "50\n",
      "Temperature in Fahrenheit : 122.0\n"
     ]
    }
   ],
   "source": [
    "celsius = int(input(\"Enter the Temperature in Celsius :\\n\"))\n",
    "fahrenheit = (1.8 * celsius) + 32\n",
    "print(\"Temperature in Fahrenheit :\", fahrenheit)"
   ]
  },
  {
   "cell_type": "markdown",
   "id": "957fe1ff",
   "metadata": {},
   "source": [
    "# TOPIC: String Based Questions"
   ]
  },
  {
   "cell_type": "markdown",
   "id": "88e08b90",
   "metadata": {},
   "source": [
    "#  1:Write a Python program that takes a string as input and prints the length of the string."
   ]
  },
  {
   "cell_type": "code",
   "execution_count": 13,
   "id": "1303e235",
   "metadata": {},
   "outputs": [
    {
     "name": "stdout",
     "output_type": "stream",
     "text": [
      "Enter any String:somya\n",
      "Length of String is: 5\n"
     ]
    }
   ],
   "source": [
    "str=input(\"Enter any String:\")\n",
    "print(\"Length of String is:\",len(str))"
   ]
  },
  {
   "cell_type": "markdown",
   "id": "2769b110",
   "metadata": {},
   "source": [
    "# 2. Create a program that takes a sentence from the user and counts the number of vowels (a, e, i, o, u) in the string."
   ]
  },
  {
   "cell_type": "code",
   "execution_count": 14,
   "id": "6bd47098",
   "metadata": {},
   "outputs": [
    {
     "name": "stdout",
     "output_type": "stream",
     "text": [
      "Enter any Sentence:Count number of vowels in a String in Python\n",
      "Number of vowels in the given string is:  12\n"
     ]
    }
   ],
   "source": [
    "Sentence=input(\"Enter any Sentence:\")\n",
    "count = 0\n",
    "i = 0\n",
    "\n",
    "\n",
    "for i in range(len(Sentence)):\n",
    "    if (\n",
    "        (Sentence[i] == \"a\")\n",
    "        or (Sentence[i] == \"e\")\n",
    "        or (Sentence[i] == \"i\")\n",
    "        or (Sentence[i] == \"o\")\n",
    "        or (Sentence[i] == \"u\")\n",
    "    ):\n",
    "        count += 1\n",
    "\n",
    "print(\"Number of vowels in the given string is: \", count)\n"
   ]
  },
  {
   "cell_type": "markdown",
   "id": "2938aa58",
   "metadata": {},
   "source": [
    "# 3. Given a string, reverse the order of characters using string slicing and print the reversed string."
   ]
  },
  {
   "cell_type": "code",
   "execution_count": 16,
   "id": "d70b13a7",
   "metadata": {},
   "outputs": [
    {
     "name": "stdout",
     "output_type": "stream",
     "text": [
      "Enter String which yoy whento reverse:sOMYA GUPTA\n",
      "ATPUG AYMOs\n"
     ]
    }
   ],
   "source": [
    "Sentence= input(\"Enter String which yoy whento reverse:\")\n",
    "print(Sentence[::-1])"
   ]
  },
  {
   "cell_type": "markdown",
   "id": "63b8d43d",
   "metadata": {},
   "source": [
    "# 4. Write a program that takes a string as input and checks if it is a palindrome (reads the same forwards and backwards)."
   ]
  },
  {
   "cell_type": "code",
   "execution_count": 18,
   "id": "bb1f6cac",
   "metadata": {},
   "outputs": [
    {
     "name": "stdout",
     "output_type": "stream",
     "text": [
      "Check if String is Palindrome: SoomooS\n",
      "Yes\n"
     ]
    }
   ],
   "source": [
    "def isPalindrome(s):\n",
    "    return s == s[::-1]\n",
    "\n",
    "s = input(\"Check if String is Palindrome: \")\n",
    "ans = isPalindrome(s)\n",
    " \n",
    "if ans:\n",
    "    print(\"Yes\")\n",
    "else:\n",
    "    print(\"No\")"
   ]
  },
  {
   "cell_type": "markdown",
   "id": "11ac64cd",
   "metadata": {},
   "source": [
    "# 5. Create a program that takes a string as input and removes all the spaces from it. Print the modified string without spaces."
   ]
  },
  {
   "cell_type": "code",
   "execution_count": 19,
   "id": "70e00870",
   "metadata": {},
   "outputs": [
    {
     "name": "stdout",
     "output_type": "stream",
     "text": [
      "Enter the String:Somya Gupta\n",
      "SomyaGupta\n"
     ]
    }
   ],
   "source": [
    "def remove(string):\n",
    "    return string.replace(\" \", \"\")\n",
    " \n",
    "\n",
    "string = input(\"Enter the String:\")\n",
    "print(remove(string))"
   ]
  },
  {
   "cell_type": "code",
   "execution_count": null,
   "id": "73895b7a",
   "metadata": {},
   "outputs": [],
   "source": []
  }
 ],
 "metadata": {
  "kernelspec": {
   "display_name": "Python 3 (ipykernel)",
   "language": "python",
   "name": "python3"
  },
  "language_info": {
   "codemirror_mode": {
    "name": "ipython",
    "version": 3
   },
   "file_extension": ".py",
   "mimetype": "text/x-python",
   "name": "python",
   "nbconvert_exporter": "python",
   "pygments_lexer": "ipython3",
   "version": "3.9.7"
  }
 },
 "nbformat": 4,
 "nbformat_minor": 5
}
